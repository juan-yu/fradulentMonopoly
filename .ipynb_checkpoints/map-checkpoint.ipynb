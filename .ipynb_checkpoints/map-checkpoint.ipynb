{
 "cells": [
  {
   "cell_type": "code",
   "execution_count": null,
   "id": "355f7b3d",
   "metadata": {},
   "outputs": [],
   "source": [
    "import player\n",
    "\n",
    "#grids={1:'開始',2:'設備更汰',3:'貨物銷售',4:'擴大行銷',5:'財務壓力',6:'機會',7:'自我合理化'}\n",
    "\n",
    "def __init__(self):\n",
    "    self.grids={1:'開始',2:'設備更汰',3:'財務壓力',4:'股票'}\n",
    "    self.entries={'設備更汰':5000,'貨物銷售':3000,'擴大行銷':2000}\n",
    "    self.cards=['財務壓力','機會','自我合理化']\n",
    "\n",
    "def getGrids():\n",
    "    return grids\n",
    "\n",
    "def entry(who,entry):\n",
    "    player.changeMoney(who,entries[entry])\n",
    "def fraud(who,entry,card):\n",
    "    if card=='財務壓力':\n",
    "        who.changeMoney(entries[entry]*0.3)\n",
    "\n",
    "\n",
    "\n",
    "\n"
   ]
  }
 ],
 "metadata": {
  "kernelspec": {
   "display_name": "Python 3",
   "language": "python",
   "name": "python3"
  },
  "language_info": {
   "codemirror_mode": {
    "name": "ipython",
    "version": 3
   },
   "file_extension": ".py",
   "mimetype": "text/x-python",
   "name": "python",
   "nbconvert_exporter": "python",
   "pygments_lexer": "ipython3",
   "version": "3.8.8"
  }
 },
 "nbformat": 4,
 "nbformat_minor": 5
}
