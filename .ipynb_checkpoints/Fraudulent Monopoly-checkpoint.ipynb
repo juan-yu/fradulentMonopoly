{
 "cells": [
  {
   "cell_type": "code",
   "execution_count": 1,
   "id": "1867b94c",
   "metadata": {
    "scrolled": true
   },
   "outputs": [
    {
     "name": "stdout",
     "output_type": "stream",
     "text": [
      "pygame 2.1.0 (SDL 2.0.16, Python 3.8.8)\n",
      "Hello from the pygame community. https://www.pygame.org/contribute.html\n",
      "po 2\n",
      "買賣股票，並二選一觸發一則股價波動事件\n",
      "po 2\n",
      "買賣股票，並二選一觸發一則股價波動事件\n",
      "po 3\n",
      "po 3\n"
     ]
    },
    {
     "ename": "SystemExit",
     "evalue": "",
     "output_type": "error",
     "traceback": [
      "An exception has occurred, use %tb to see the full traceback.\n",
      "\u001b[1;31mSystemExit\u001b[0m\n"
     ]
    },
    {
     "name": "stderr",
     "output_type": "stream",
     "text": [
      "C:\\ProgramData\\Anaconda3\\lib\\site-packages\\IPython\\core\\interactiveshell.py:3445: UserWarning: To exit: use 'exit', 'quit', or Ctrl-D.\n",
      "  warn(\"To exit: use 'exit', 'quit', or Ctrl-D.\", stacklevel=1)\n"
     ]
    }
   ],
   "source": [
    "import random,pygame,sys\n",
    "\n",
    "running = True\n",
    "pygame.init()\n",
    "screen = pygame.display.set_mode((885,630))\n",
    "bg=pygame.transform.scale(pygame.image.load(\"bg.jpg\"),(885,630))\n",
    "bl=pygame.transform.scale(pygame.image.load(\"blue.png\"), (100, 100))\n",
    "red=pygame.transform.scale(pygame.image.load(\"red.png\"), (100, 100))\n",
    "pygame.display.set_caption(\"Fraudulent Monopoly\")\n",
    "\n",
    "screen.blit(bg,(0,0))\n",
    "screen.blit(bl,(780,530))\n",
    "screen.blit(red,(800,530))\n",
    "pygame.display.flip()\n",
    "\n",
    "#grids={1:'開始',2:'設備更汰',3:'貨物銷售',4:'擴大行銷',5:'財務壓力',6:'機會',7:'自我合理化'}\n",
    "\n",
    "\n",
    "\n",
    "   \n",
    "class player:\n",
    "\n",
    "    entries={'設備更汰':{'金額':10000,'薪水':5000},'貨物銷售':3000,'擴大行銷':2000}\n",
    "    allFraud=['財務壓力','機會','自我合理化']\n",
    "    token=''\n",
    "    money=0\n",
    "    position=1\n",
    "    fraudHave=[]\n",
    "\n",
    "    def __init__(self,token):\n",
    "        self.token=token\n",
    "        self.money=0\n",
    "        self.position=1\n",
    "        self.fraudHave=[]\n",
    "\n",
    "    def changePosition(self,steps):\n",
    "        self.position+=steps\n",
    "        if self.position>30:\n",
    "            self.position-=30\n",
    "        return self.position\n",
    "\n",
    "    def useFraud(self,entry,card):\n",
    "        if card==0:\n",
    "            return True\n",
    "        usedCard=self.fraudHave.pop(card-1)\n",
    "        stolenMoney=0\n",
    "        entryAmount=self.entries[entry]['金額']\n",
    "        if usedCard=='財務壓力':\n",
    "            stolenMoney=int(entryAmount*0.3)\n",
    "            self.money+=stolenMoney\n",
    "            print(f'你偷了{stolenMoney}元')\n",
    "            return True\n",
    "\n",
    "    def entry(self,entry):\n",
    "        salary=self.entries[entry]['薪水']\n",
    "        self.money+=salary\n",
    "        print(f'你賺了{salary}元')\n",
    "        return self.entries[entry]['金額']\n",
    "    \n",
    "def showMoney():\n",
    "    for player in players:\n",
    "        print(f'{player.token}現在有{player.money}元')\n",
    "def listen():\n",
    "    pygame.event.clear()\n",
    "    listen = True\n",
    "    while listen:\n",
    "        for event in pygame.event.get():\n",
    "            if event.type == pygame.QUIT:\n",
    "                listen = False\n",
    "                pygame.display.quit()\n",
    "                sys.exit()\n",
    "            if event.type==pygame.KEYDOWN:\n",
    "                return event.key\n",
    "players=[player(bl),player(red)]\n",
    "counter=0\n",
    "grids={1:'開始',2:'股票',3:'舞弊',4:'記帳',5:'股票',6:'記帳',7:'舞弊'}\n",
    "while True:\n",
    "    steps=0\n",
    "    pygame.event.clear()\n",
    "    listen = True\n",
    "    while listen:\n",
    "        for event in pygame.event.get():\n",
    "            if event.type == pygame.QUIT:\n",
    "                listen = False\n",
    "                pygame.display.quit()\n",
    "                sys.exit()\n",
    "            if event.type==pygame.KEYDOWN:\n",
    "                if event.key==pygame.K_SPACE:\n",
    "                    steps=random.randrange(1,2)\n",
    "                    listen = False\n",
    "    positionName=grids[players[counter].changePosition(steps)]\n",
    "    print('po',players[counter].position)\n",
    "    if players[counter].position==1:\n",
    "        screen.blit(players[counter].token,(780,530))\n",
    "    if players[counter].position==2:\n",
    "        screen.blit(players[counter].token,(680,530))\n",
    "    if players[counter].position==3:\n",
    "        screen.blit(players[counter].token,(580,530))\n",
    "    if players[counter].position==4:\n",
    "        screen.blit(players[counter].token,(480,530))\n",
    "    if players[counter].position==5:\n",
    "        screen.blit(players[counter].token,(380,530))\n",
    "    if players[counter].position==6:\n",
    "        screen.blit(players[counter].token,(280,530))\n",
    "    if players[counter].position==7:\n",
    "        screen.blit(players[counter].token,(180,530))\n",
    "    pygame.display.flip()\n",
    "    if positionName=='記帳':\n",
    "        players[counter].entry('設備更汰')\n",
    "        showMoney()\n",
    "        if players[counter].money>20000:\n",
    "            print(f'{players[counter].token}贏了!!!!!!!')\n",
    "            break\n",
    "\n",
    "        if len(players[counter].fraudHave)>=1:\n",
    "            finish=None\n",
    "            for player in players:\n",
    "                print(f'{player.token}有以下舞弊卡：{player.fraudHave}')\n",
    "            while finish is None:\n",
    "                try:\n",
    "                    finish=players[counter].useFraud('設備更汰',int(input('你要用哪張舞弊卡? 第1張輸入1，第2張輸入2，以此類推，不使用請輸入0\\n')))\n",
    "                except (ValueError,IndexError)as e:\n",
    "                    print('再試一次')\n",
    "                    showMoney()\n",
    "        if players[counter].money>20000:\n",
    "            print(f'{players[counter].token}贏了!!!!!!!')\n",
    "            break\n",
    "    if positionName=='財務壓力':\n",
    "        players[counter].fraudHave.append('財務壓力')\n",
    "        for player in players:\n",
    "            print(f'{player.token}累積的舞弊卡：{player.fraudHave}')\n",
    "    if positionName=='股票':\n",
    "        print('買賣股票，並二選一觸發一則股價波動事件')\n",
    "    if counter+1==len(players):\n",
    "        counter=0\n",
    "    else:\n",
    "        counter+=1\n"
   ]
  },
  {
   "cell_type": "code",
   "execution_count": 1,
   "id": "f0a6e1ae",
   "metadata": {},
   "outputs": [
    {
     "name": "stdout",
     "output_type": "stream",
     "text": [
      "pygame 2.1.0 (SDL 2.0.16, Python 3.8.8)\n",
      "Hello from the pygame community. https://www.pygame.org/contribute.html\n"
     ]
    }
   ],
   "source": [
    "import random,pygame,threading,sys\n",
    "\n",
    "\n",
    "pygame.init()\n",
    "bg=bg=pygame.transform.scale(pygame.image.load(\"bg.jpg\"),(885,630))\n",
    "bl=pygame.transform.scale(pygame.image.load(\"blue.png\"), (100, 100))\n",
    "red=pygame.transform.scale(pygame.image.load(\"red.png\"), (100, 100))\n",
    "pygame.display.set_caption(\"Fraudulent Monopoly\")\n",
    "screen = pygame.display.set_mode((885,630))\n",
    "screen.blit(bg,(0,0))\n",
    "screen.blit(bl,(780,530))\n",
    "screen.blit(red,(800,530))\n",
    "pygame.display.flip()\n",
    "\n",
    "def listen():\n",
    "    running = True\n",
    "    while running:\n",
    "        for event in pygame.event.get():\n",
    "            if event.type == pygame.QUIT:\n",
    "                running = False\n",
    "t()\n",
    "pygame.display.quit()"
   ]
  },
  {
   "cell_type": "code",
   "execution_count": 9,
   "id": "9a44ab95",
   "metadata": {},
   "outputs": [
    {
     "ename": "SystemExit",
     "evalue": "",
     "output_type": "error",
     "traceback": [
      "\u001b[1;31m---------------------------------------------------------------------------\u001b[0m",
      "\u001b[1;31mSystemExit\u001b[0m                                Traceback (most recent call last)",
      "\u001b[1;32m<ipython-input-8-d3cd7e5834de>\u001b[0m in \u001b[0;36m<module>\u001b[1;34m\u001b[0m\n\u001b[0;32m     84\u001b[0m                 \u001b[0mlisten\u001b[0m \u001b[1;33m=\u001b[0m \u001b[1;32mFalse\u001b[0m\u001b[1;33m\u001b[0m\u001b[1;33m\u001b[0m\u001b[0m\n\u001b[0;32m     85\u001b[0m                 \u001b[0mpygame\u001b[0m\u001b[1;33m.\u001b[0m\u001b[0mdisplay\u001b[0m\u001b[1;33m.\u001b[0m\u001b[0mquit\u001b[0m\u001b[1;33m(\u001b[0m\u001b[1;33m)\u001b[0m\u001b[1;33m\u001b[0m\u001b[1;33m\u001b[0m\u001b[0m\n\u001b[1;32m---> 86\u001b[1;33m                 \u001b[0msys\u001b[0m\u001b[1;33m.\u001b[0m\u001b[0mexit\u001b[0m\u001b[1;33m(\u001b[0m\u001b[1;33m)\u001b[0m\u001b[1;33m\u001b[0m\u001b[1;33m\u001b[0m\u001b[0m\n\u001b[0m\u001b[0;32m     87\u001b[0m             \u001b[1;32mif\u001b[0m \u001b[0mevent\u001b[0m\u001b[1;33m.\u001b[0m\u001b[0mtype\u001b[0m\u001b[1;33m==\u001b[0m\u001b[0mpygame\u001b[0m\u001b[1;33m.\u001b[0m\u001b[0mKEYDOWN\u001b[0m\u001b[1;33m:\u001b[0m\u001b[1;33m\u001b[0m\u001b[1;33m\u001b[0m\u001b[0m\n\u001b[0;32m     88\u001b[0m                 \u001b[1;32mif\u001b[0m \u001b[0mevent\u001b[0m\u001b[1;33m.\u001b[0m\u001b[0mkey\u001b[0m\u001b[1;33m==\u001b[0m\u001b[0mpygame\u001b[0m\u001b[1;33m.\u001b[0m\u001b[0mK_SPACE\u001b[0m\u001b[1;33m:\u001b[0m\u001b[1;33m\u001b[0m\u001b[1;33m\u001b[0m\u001b[0m\n",
      "\u001b[1;31mSystemExit\u001b[0m: "
     ]
    }
   ],
   "source": [
    "%tb"
   ]
  },
  {
   "cell_type": "code",
   "execution_count": null,
   "id": "f0b9f7ea",
   "metadata": {},
   "outputs": [],
   "source": []
  }
 ],
 "metadata": {
  "celltoolbar": "Raw Cell Format",
  "kernelspec": {
   "display_name": "Python 3",
   "language": "python",
   "name": "python3"
  },
  "language_info": {
   "codemirror_mode": {
    "name": "ipython",
    "version": 3
   },
   "file_extension": ".py",
   "mimetype": "text/x-python",
   "name": "python",
   "nbconvert_exporter": "python",
   "pygments_lexer": "ipython3",
   "version": "3.8.8"
  }
 },
 "nbformat": 4,
 "nbformat_minor": 5
}
