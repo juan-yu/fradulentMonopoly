{
 "cells": [
  {
   "cell_type": "code",
   "execution_count": null,
   "id": "df9ce80b",
   "metadata": {},
   "outputs": [],
   "source": [
    "import map\n",
    "\n",
    "\n",
    "def __init__(self):\n",
    "    self.moneyA=0\n",
    "    self.moneyB=0\n",
    "    self.positionA=1\n",
    "    self.positionB=1\n",
    "    self.fraudCardsA=[]\n",
    "    self.fraudCardsB=[]\n",
    "\n",
    "def getMoney(who):\n",
    "    if who=='A':\n",
    "        return moneyA\n",
    "    if who=='B':\n",
    "        return moneyB\n",
    "\n",
    "def changeMoney(who,money):\n",
    "    if who=='A':\n",
    "        moneyA+=money\n",
    "    if who=='B':\n",
    "        moneyB+=money\n",
    "        \n",
    "def getPosition(who):\n",
    "    if who=='A':\n",
    "        return positionA\n",
    "    if who=='B':\n",
    "        return positionB\n",
    "    \n",
    "def changePosition(who,steps):\n",
    "    if who=='A':\n",
    "        positionA+=steps\n",
    "        if positionA>4:\n",
    "            positionA-=4\n",
    "    if who=='B':\n",
    "        positionB+=steps\n",
    "        if positionB>4:\n",
    "            positionB-=4\n",
    "\n",
    "def addFraudCard(who,card):\n",
    "    if who=='A':\n",
    "        fraudCardsA.append(card)\n",
    "    if who=='B':\n",
    "        fraudCardsB.append(card)\n",
    "    \n",
    "def useFraudCard(who,card):\n",
    "    if who=='A':\n",
    "        fraudCardsA.remove(card)\n",
    "        map.fraud(who,card)\n",
    "    if who=='B':\n",
    "        fraudCardsB.remove(card)\n",
    "        map.fraud(who,card)"
   ]
  }
 ],
 "metadata": {
  "kernelspec": {
   "display_name": "Python 3",
   "language": "python",
   "name": "python3"
  },
  "language_info": {
   "codemirror_mode": {
    "name": "ipython",
    "version": 3
   },
   "file_extension": ".py",
   "mimetype": "text/x-python",
   "name": "python",
   "nbconvert_exporter": "python",
   "pygments_lexer": "ipython3",
   "version": "3.8.8"
  }
 },
 "nbformat": 4,
 "nbformat_minor": 5
}
